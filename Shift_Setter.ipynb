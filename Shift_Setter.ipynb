{
  "nbformat": 4,
  "nbformat_minor": 0,
  "metadata": {
    "colab": {
      "provenance": [],
      "mount_file_id": "1qkUoreQoeB7-dx0nOMPRPW3WeOdZ-7sN",
      "authorship_tag": "ABX9TyMCAGjma0gUwNXp3mcPuvR2",
      "include_colab_link": true
    },
    "kernelspec": {
      "name": "python3",
      "display_name": "Python 3"
    },
    "language_info": {
      "name": "python"
    }
  },
  "cells": [
    {
      "cell_type": "markdown",
      "metadata": {
        "id": "view-in-github",
        "colab_type": "text"
      },
      "source": [
        "<a href=\"https://colab.research.google.com/github/ArefMahjoubfar/ShiftSet/blob/V2.0/Shift_Setter.ipynb\" target=\"_parent\"><img src=\"https://colab.research.google.com/assets/colab-badge.svg\" alt=\"Open In Colab\"/></a>"
      ]
    },
    {
      "cell_type": "markdown",
      "source": [
        "# **Shift Set Script**\n",
        "    Code by <*Aref Mahjoubfar* >  <4/29/2024>"
      ],
      "metadata": {
        "id": "5CPErP6JMryx"
      }
    },
    {
      "cell_type": "markdown",
      "source": [
        "Points to consider:\n",
        "\n",
        "- Some indivs have some day limitations to have a shift\n",
        "- Some indivs should be tagged with someone else: first version will not considering the tags. because the priority is day limitations. then with regarding the tags the next version will be produced based on minimal changing on the previous version.\n",
        "\n",
        "- Indivs have diffrent number of shifts\n",
        "- Days have diffrent degrees of difficulty\n",
        "- In a day, shifts are in diffrent categories: site\n",
        "\n",
        "\n",
        "- [X] 1st: prevent an indiv to has 2 shifts in a day.\n",
        "- [X] 2nd: assign specific number of shifts to specific indivs.\n",
        "- [ ] 3rd: consider holidays. at first you shoud choose individuals for holidays, then remove those days from total days and add the day before and after those holidays to the limitation days of those specific individuals.\n",
        "- [ ] 4th: consider tags."
      ],
      "metadata": {
        "id": "lxXymxe4FsqZ"
      }
    },
    {
      "cell_type": "code",
      "execution_count": 249,
      "metadata": {
        "colab": {
          "base_uri": "https://localhost:8080/"
        },
        "id": "nQb95gpF5z_2",
        "outputId": "b81fe438-f9fb-4c81-c97a-c5ecddcbebc7"
      },
      "outputs": [
        {
          "output_type": "stream",
          "name": "stdout",
          "text": [
            "Requirement already satisfied: pandas in /usr/local/lib/python3.10/dist-packages (2.0.3)\n",
            "Requirement already satisfied: python-dateutil>=2.8.2 in /usr/local/lib/python3.10/dist-packages (from pandas) (2.8.2)\n",
            "Requirement already satisfied: pytz>=2020.1 in /usr/local/lib/python3.10/dist-packages (from pandas) (2023.4)\n",
            "Requirement already satisfied: tzdata>=2022.1 in /usr/local/lib/python3.10/dist-packages (from pandas) (2024.1)\n",
            "Requirement already satisfied: numpy>=1.21.0 in /usr/local/lib/python3.10/dist-packages (from pandas) (1.25.2)\n",
            "Requirement already satisfied: six>=1.5 in /usr/local/lib/python3.10/dist-packages (from python-dateutil>=2.8.2->pandas) (1.16.0)\n"
          ]
        }
      ],
      "source": [
        "# install libraries\n",
        "!pip install pandas"
      ]
    },
    {
      "cell_type": "code",
      "source": [
        "# import libraries\n",
        "import pandas as pd\n",
        "import random\n",
        "import datetime\n",
        "from tqdm import tqdm"
      ],
      "metadata": {
        "id": "QHpqyLoj5-sB"
      },
      "execution_count": 557,
      "outputs": []
    },
    {
      "cell_type": "code",
      "source": [
        "# Load CSV files\n",
        "Individuals_df = pd.read_csv('/content/drive/MyDrive/PY_Prac/SHIFT_SETTER/INDIVS.csv', encoding='utf-8')\n",
        "Shift_days_df = pd.read_csv('/content/drive/MyDrive/PY_Prac/SHIFT_SETTER/SHIFT_DAYS.csv', encoding='utf-8')"
      ],
      "metadata": {
        "id": "veT0ENxl6Cor"
      },
      "execution_count": 523,
      "outputs": []
    },
    {
      "cell_type": "code",
      "source": [
        "# Parameters\n",
        "def Set_params():\n",
        "  global n_indivs, n_sites, n_days, n_shifts, Indivs, n_Indiv_Shift, Sites, Shifts, Days, Shifts_no_indiv, Limits, Assigned_shift_no\n",
        "  # Set your Parameters here:\n",
        "  # --------------------------------------------------------------------------------------------------------------\n",
        "\n",
        "  n_indivs = 22   # number of individuals to have shifts in the course.\n",
        "  n_sites = 5     # number of sites in a day / number of individuals in a day to have shifts / number of shifts in a day.\n",
        "  n_days = 90     # number of days in the course\n",
        "  n_shifts= n_days* n_sites  # number of total shifts\n",
        "\n",
        "  # --------------------------------------------------------------------------------------------------------------\n",
        "\n",
        "  # Generating list of Indivs, Sites and Shifts\n",
        "  Indivs=[indiv for indiv in range(n_indivs)]\n",
        "  n_Indiv_Shift=[0 for i in range(len(Indivs))]  # e,g. 20 shifts for each individual.\n",
        "  Sites = ['site'+str(site) for site in range(n_sites)]\n",
        "  Shifts = [[j for j in range(n_sites)]for i in range(n_days)]\n",
        "  Days = [Day for Day in range(len(Shifts))]\n",
        "\n",
        "  # a list that has length equal to number of indivs with elements of number of shifts for individuals\n",
        "  Shifts_no_indiv = [0 for i in range(len(Indivs))]\n",
        "  # Generating an empty list of day limitations for each individual --> Individual: Day limitations dictionary\n",
        "  Limits={}\n",
        "  for indiv in Indivs:\n",
        "    Limits[indiv]=[]\n",
        "\n",
        "  # Place to add extra limitation days for a specific individual\n",
        "  #   ...\n",
        "  #   ...\n",
        "\n",
        "  # locate the exact place of Days and Shifts in the dataframes\n",
        "  Indiv_list = Individuals_df.iloc[:,0]\n",
        "  Day_list = Shift_days_df.iloc[:,0]\n",
        "  Assigned_shift_no = Individuals_df.iloc[:n_indivs,1:2]    # the second coulmn in the csv file should be the assigned number of shifts for each individual.\n",
        "  # reaching the total shifts assigned to an individual by using .loc[index]. e,g.\n",
        "  Assigned_shift_no= Assigned_shift_no['TOTAL SHIFTS'].tolist()\n",
        "# we can call the individuals who have shift in a specific day by using its index Shifts[Day_index].e,g.:\n",
        "Shifts[0]"
      ],
      "metadata": {
        "colab": {
          "base_uri": "https://localhost:8080/"
        },
        "id": "KrvqmPy-EvBK",
        "outputId": "28bb68fc-efe1-4ae4-9b5f-3f1deaf8e06b"
      },
      "execution_count": 571,
      "outputs": [
        {
          "output_type": "execute_result",
          "data": {
            "text/plain": [
              "[13, 14, 4, 0, 20]"
            ]
          },
          "metadata": {},
          "execution_count": 571
        }
      ]
    },
    {
      "cell_type": "code",
      "source": [
        "# the function that counts the shift numbers\n",
        "def Counter(The_chosen_one):\n",
        "  Shifts_no_indiv[The_chosen_one]+=1"
      ],
      "metadata": {
        "id": "1B6fU8S2x3JV"
      },
      "execution_count": 569,
      "outputs": []
    },
    {
      "cell_type": "code",
      "source": [
        "# Generating list of available indivs\n",
        "def available_indivs():\n",
        "  available_indivs_list=[]\n",
        "  for indiv in Indivs:\n",
        "    # print(f'Day:{[Day]}   Shift:{[Shift]}  indiv: {[indiv]}   {Assigned_shift_no[indiv]}   {Shifts_no_indiv[indiv]}   available_indivs_list:{available_indivs_list}')\n",
        "    if Assigned_shift_no[indiv] > Shifts_no_indiv[indiv]:   # check if an indiv has reach the upper limit of shifts number.\n",
        "      if Day in Limits[indiv]:\n",
        "          pass\n",
        "      else:\n",
        "          available_indivs_list.append(indiv)\n",
        "          # print(f'available_indivs_list---------------> {available_indivs_list}')\n",
        "    else:\n",
        "      # print('==========================================================================================================================')\n",
        "      pass\n",
        "  return available_indivs_list"
      ],
      "metadata": {
        "id": "ozzC4CsYbOfi"
      },
      "execution_count": 570,
      "outputs": []
    },
    {
      "cell_type": "code",
      "source": [
        "# the function that update the day limitations for an individual based on their shifts\n",
        "def Update_Limits(The_chosen_one, Day):\n",
        "      Limits[The_chosen_one].append(Day)\n",
        "      # Preventing 48 hours Shifts(two shifts together)\n",
        "      Limits[The_chosen_one].append(Day-1)\n",
        "      Limits[The_chosen_one].append(Day+1)"
      ],
      "metadata": {
        "id": "6JnJCyalr1kZ"
      },
      "execution_count": 561,
      "outputs": []
    },
    {
      "cell_type": "code",
      "source": [
        "# the function that will set an indiv for a specific shift\n",
        "def ShiftSet(Shift):\n",
        "    The_chosen_one = available_indivs_list[random.randrange(len(available_indivs_list))]\n",
        "    Shifts_of_day[Shift]= The_chosen_one\n",
        "    Update_Limits(The_chosen_one, Day)\n",
        "    Counter(The_chosen_one)\n"
      ],
      "metadata": {
        "id": "c_cpa4nuoa5K"
      },
      "execution_count": 562,
      "outputs": []
    },
    {
      "cell_type": "code",
      "source": [
        "def StartSet():\n",
        "  global Day, Shifts_of_day, available_indivs_list\n",
        "  for Day,Shifts_of_day in enumerate(Shifts):\n",
        "      # print(Day, Shifts_of_day)\n",
        "      for Shift in Shifts_of_day:\n",
        "        available_indivs_list = available_indivs()\n",
        "        ShiftSet(Shift)"
      ],
      "metadata": {
        "id": "z7Jv3V_hSZtD"
      },
      "execution_count": 564,
      "outputs": []
    },
    {
      "cell_type": "code",
      "source": [
        "The_best_rnd_seed_rate = 0\n",
        "The_best_rnd_seed = None\n",
        "The_best_set=0\n",
        "for i in tqdm(range(10000)):\n",
        "  random.seed(i)\n",
        "  try:\n",
        "    Set_params()\n",
        "    StartSet()\n",
        "  except:\n",
        "    successful_rate = (sum(Shifts_no_indiv)/sum(Assigned_shift_no))*100\n",
        "    if successful_rate>The_best_rnd_seed_rate:\n",
        "      The_best_rnd_seed = i\n",
        "      The_best_rnd_seed_rate = successful_rate\n",
        "      The_best_set = sum((Shifts_no_indiv))\n",
        "    print(f'random.seed({i}):     <---->    ({sum(Shifts_no_indiv)} of {sum(Assigned_shift_no)}) -----  {successful_rate} %    The best: random.seed({The_best_rnd_seed})   {The_best_rnd_seed_rate}  ({The_best_set} of {sum(Assigned_shift_no)})')\n",
        "  else:\n",
        "    print('Successful!')\n",
        "    break"
      ],
      "metadata": {
        "id": "o5x7pdz8z62d"
      },
      "execution_count": null,
      "outputs": []
    },
    {
      "cell_type": "code",
      "source": [
        "def Play_Set_Shifts(seed):\n",
        "  try:\n",
        "    random.seed(seed)\n",
        "    Set_params()\n",
        "    StartSet()\n",
        "  except:\n",
        "    print(f'Shifts have been set with successful rate: {The_best_rnd_seed_rate}.  The last {sum(Assigned_shift_no)-(The_best_set)} shift/s remained. Try to set it manually:)')\n",
        "\n",
        "Play_Set_Shifts(The_best_rnd_seed)\n",
        "Shifts_df=pd.DataFrame(Shifts)\n",
        "Shifts_df"
      ],
      "metadata": {
        "colab": {
          "base_uri": "https://localhost:8080/",
          "height": 2076
        },
        "id": "OuDCjoE2sQbh",
        "outputId": "6f2bf004-c57f-49e4-df32-8b4283c933d3"
      },
      "execution_count": 567,
      "outputs": [
        {
          "output_type": "stream",
          "name": "stdout",
          "text": [
            "Shifts have been set with successful rate: 99.77777777777777.  The last 1 shift/s remained. Try to set it manually:)\n"
          ]
        },
        {
          "output_type": "execute_result",
          "data": {
            "text/plain": [
              "     0   1   2   3   4\n",
              "0   13  14   4   0  20\n",
              "1   18   9   1   2   3\n",
              "2   10  14  11  13  15\n",
              "3   12   5   9   8   2\n",
              "4   17  21   0   6  20\n",
              "..  ..  ..  ..  ..  ..\n",
              "85  16  19  17   4   0\n",
              "86  15   2   9   3  20\n",
              "87   4  12  16  17   0\n",
              "88  15   3  20   2   9\n",
              "89  12  16   4  17   4\n",
              "\n",
              "[90 rows x 5 columns]"
            ],
            "text/html": [
              "\n",
              "  <div id=\"df-2678b794-3408-4b33-86ce-7f6807fb992d\" class=\"colab-df-container\">\n",
              "    <div>\n",
              "<style scoped>\n",
              "    .dataframe tbody tr th:only-of-type {\n",
              "        vertical-align: middle;\n",
              "    }\n",
              "\n",
              "    .dataframe tbody tr th {\n",
              "        vertical-align: top;\n",
              "    }\n",
              "\n",
              "    .dataframe thead th {\n",
              "        text-align: right;\n",
              "    }\n",
              "</style>\n",
              "<table border=\"1\" class=\"dataframe\">\n",
              "  <thead>\n",
              "    <tr style=\"text-align: right;\">\n",
              "      <th></th>\n",
              "      <th>0</th>\n",
              "      <th>1</th>\n",
              "      <th>2</th>\n",
              "      <th>3</th>\n",
              "      <th>4</th>\n",
              "    </tr>\n",
              "  </thead>\n",
              "  <tbody>\n",
              "    <tr>\n",
              "      <th>0</th>\n",
              "      <td>13</td>\n",
              "      <td>14</td>\n",
              "      <td>4</td>\n",
              "      <td>0</td>\n",
              "      <td>20</td>\n",
              "    </tr>\n",
              "    <tr>\n",
              "      <th>1</th>\n",
              "      <td>18</td>\n",
              "      <td>9</td>\n",
              "      <td>1</td>\n",
              "      <td>2</td>\n",
              "      <td>3</td>\n",
              "    </tr>\n",
              "    <tr>\n",
              "      <th>2</th>\n",
              "      <td>10</td>\n",
              "      <td>14</td>\n",
              "      <td>11</td>\n",
              "      <td>13</td>\n",
              "      <td>15</td>\n",
              "    </tr>\n",
              "    <tr>\n",
              "      <th>3</th>\n",
              "      <td>12</td>\n",
              "      <td>5</td>\n",
              "      <td>9</td>\n",
              "      <td>8</td>\n",
              "      <td>2</td>\n",
              "    </tr>\n",
              "    <tr>\n",
              "      <th>4</th>\n",
              "      <td>17</td>\n",
              "      <td>21</td>\n",
              "      <td>0</td>\n",
              "      <td>6</td>\n",
              "      <td>20</td>\n",
              "    </tr>\n",
              "    <tr>\n",
              "      <th>...</th>\n",
              "      <td>...</td>\n",
              "      <td>...</td>\n",
              "      <td>...</td>\n",
              "      <td>...</td>\n",
              "      <td>...</td>\n",
              "    </tr>\n",
              "    <tr>\n",
              "      <th>85</th>\n",
              "      <td>16</td>\n",
              "      <td>19</td>\n",
              "      <td>17</td>\n",
              "      <td>4</td>\n",
              "      <td>0</td>\n",
              "    </tr>\n",
              "    <tr>\n",
              "      <th>86</th>\n",
              "      <td>15</td>\n",
              "      <td>2</td>\n",
              "      <td>9</td>\n",
              "      <td>3</td>\n",
              "      <td>20</td>\n",
              "    </tr>\n",
              "    <tr>\n",
              "      <th>87</th>\n",
              "      <td>4</td>\n",
              "      <td>12</td>\n",
              "      <td>16</td>\n",
              "      <td>17</td>\n",
              "      <td>0</td>\n",
              "    </tr>\n",
              "    <tr>\n",
              "      <th>88</th>\n",
              "      <td>15</td>\n",
              "      <td>3</td>\n",
              "      <td>20</td>\n",
              "      <td>2</td>\n",
              "      <td>9</td>\n",
              "    </tr>\n",
              "    <tr>\n",
              "      <th>89</th>\n",
              "      <td>12</td>\n",
              "      <td>16</td>\n",
              "      <td>4</td>\n",
              "      <td>17</td>\n",
              "      <td>4</td>\n",
              "    </tr>\n",
              "  </tbody>\n",
              "</table>\n",
              "<p>90 rows × 5 columns</p>\n",
              "</div>\n",
              "    <div class=\"colab-df-buttons\">\n",
              "\n",
              "  <div class=\"colab-df-container\">\n",
              "    <button class=\"colab-df-convert\" onclick=\"convertToInteractive('df-2678b794-3408-4b33-86ce-7f6807fb992d')\"\n",
              "            title=\"Convert this dataframe to an interactive table.\"\n",
              "            style=\"display:none;\">\n",
              "\n",
              "  <svg xmlns=\"http://www.w3.org/2000/svg\" height=\"24px\" viewBox=\"0 -960 960 960\">\n",
              "    <path d=\"M120-120v-720h720v720H120Zm60-500h600v-160H180v160Zm220 220h160v-160H400v160Zm0 220h160v-160H400v160ZM180-400h160v-160H180v160Zm440 0h160v-160H620v160ZM180-180h160v-160H180v160Zm440 0h160v-160H620v160Z\"/>\n",
              "  </svg>\n",
              "    </button>\n",
              "\n",
              "  <style>\n",
              "    .colab-df-container {\n",
              "      display:flex;\n",
              "      gap: 12px;\n",
              "    }\n",
              "\n",
              "    .colab-df-convert {\n",
              "      background-color: #E8F0FE;\n",
              "      border: none;\n",
              "      border-radius: 50%;\n",
              "      cursor: pointer;\n",
              "      display: none;\n",
              "      fill: #1967D2;\n",
              "      height: 32px;\n",
              "      padding: 0 0 0 0;\n",
              "      width: 32px;\n",
              "    }\n",
              "\n",
              "    .colab-df-convert:hover {\n",
              "      background-color: #E2EBFA;\n",
              "      box-shadow: 0px 1px 2px rgba(60, 64, 67, 0.3), 0px 1px 3px 1px rgba(60, 64, 67, 0.15);\n",
              "      fill: #174EA6;\n",
              "    }\n",
              "\n",
              "    .colab-df-buttons div {\n",
              "      margin-bottom: 4px;\n",
              "    }\n",
              "\n",
              "    [theme=dark] .colab-df-convert {\n",
              "      background-color: #3B4455;\n",
              "      fill: #D2E3FC;\n",
              "    }\n",
              "\n",
              "    [theme=dark] .colab-df-convert:hover {\n",
              "      background-color: #434B5C;\n",
              "      box-shadow: 0px 1px 3px 1px rgba(0, 0, 0, 0.15);\n",
              "      filter: drop-shadow(0px 1px 2px rgba(0, 0, 0, 0.3));\n",
              "      fill: #FFFFFF;\n",
              "    }\n",
              "  </style>\n",
              "\n",
              "    <script>\n",
              "      const buttonEl =\n",
              "        document.querySelector('#df-2678b794-3408-4b33-86ce-7f6807fb992d button.colab-df-convert');\n",
              "      buttonEl.style.display =\n",
              "        google.colab.kernel.accessAllowed ? 'block' : 'none';\n",
              "\n",
              "      async function convertToInteractive(key) {\n",
              "        const element = document.querySelector('#df-2678b794-3408-4b33-86ce-7f6807fb992d');\n",
              "        const dataTable =\n",
              "          await google.colab.kernel.invokeFunction('convertToInteractive',\n",
              "                                                    [key], {});\n",
              "        if (!dataTable) return;\n",
              "\n",
              "        const docLinkHtml = 'Like what you see? Visit the ' +\n",
              "          '<a target=\"_blank\" href=https://colab.research.google.com/notebooks/data_table.ipynb>data table notebook</a>'\n",
              "          + ' to learn more about interactive tables.';\n",
              "        element.innerHTML = '';\n",
              "        dataTable['output_type'] = 'display_data';\n",
              "        await google.colab.output.renderOutput(dataTable, element);\n",
              "        const docLink = document.createElement('div');\n",
              "        docLink.innerHTML = docLinkHtml;\n",
              "        element.appendChild(docLink);\n",
              "      }\n",
              "    </script>\n",
              "  </div>\n",
              "\n",
              "\n",
              "<div id=\"df-80bfecb5-ce33-4ec9-8f22-332233037f6a\">\n",
              "  <button class=\"colab-df-quickchart\" onclick=\"quickchart('df-80bfecb5-ce33-4ec9-8f22-332233037f6a')\"\n",
              "            title=\"Suggest charts\"\n",
              "            style=\"display:none;\">\n",
              "\n",
              "<svg xmlns=\"http://www.w3.org/2000/svg\" height=\"24px\"viewBox=\"0 0 24 24\"\n",
              "     width=\"24px\">\n",
              "    <g>\n",
              "        <path d=\"M19 3H5c-1.1 0-2 .9-2 2v14c0 1.1.9 2 2 2h14c1.1 0 2-.9 2-2V5c0-1.1-.9-2-2-2zM9 17H7v-7h2v7zm4 0h-2V7h2v10zm4 0h-2v-4h2v4z\"/>\n",
              "    </g>\n",
              "</svg>\n",
              "  </button>\n",
              "\n",
              "<style>\n",
              "  .colab-df-quickchart {\n",
              "      --bg-color: #E8F0FE;\n",
              "      --fill-color: #1967D2;\n",
              "      --hover-bg-color: #E2EBFA;\n",
              "      --hover-fill-color: #174EA6;\n",
              "      --disabled-fill-color: #AAA;\n",
              "      --disabled-bg-color: #DDD;\n",
              "  }\n",
              "\n",
              "  [theme=dark] .colab-df-quickchart {\n",
              "      --bg-color: #3B4455;\n",
              "      --fill-color: #D2E3FC;\n",
              "      --hover-bg-color: #434B5C;\n",
              "      --hover-fill-color: #FFFFFF;\n",
              "      --disabled-bg-color: #3B4455;\n",
              "      --disabled-fill-color: #666;\n",
              "  }\n",
              "\n",
              "  .colab-df-quickchart {\n",
              "    background-color: var(--bg-color);\n",
              "    border: none;\n",
              "    border-radius: 50%;\n",
              "    cursor: pointer;\n",
              "    display: none;\n",
              "    fill: var(--fill-color);\n",
              "    height: 32px;\n",
              "    padding: 0;\n",
              "    width: 32px;\n",
              "  }\n",
              "\n",
              "  .colab-df-quickchart:hover {\n",
              "    background-color: var(--hover-bg-color);\n",
              "    box-shadow: 0 1px 2px rgba(60, 64, 67, 0.3), 0 1px 3px 1px rgba(60, 64, 67, 0.15);\n",
              "    fill: var(--button-hover-fill-color);\n",
              "  }\n",
              "\n",
              "  .colab-df-quickchart-complete:disabled,\n",
              "  .colab-df-quickchart-complete:disabled:hover {\n",
              "    background-color: var(--disabled-bg-color);\n",
              "    fill: var(--disabled-fill-color);\n",
              "    box-shadow: none;\n",
              "  }\n",
              "\n",
              "  .colab-df-spinner {\n",
              "    border: 2px solid var(--fill-color);\n",
              "    border-color: transparent;\n",
              "    border-bottom-color: var(--fill-color);\n",
              "    animation:\n",
              "      spin 1s steps(1) infinite;\n",
              "  }\n",
              "\n",
              "  @keyframes spin {\n",
              "    0% {\n",
              "      border-color: transparent;\n",
              "      border-bottom-color: var(--fill-color);\n",
              "      border-left-color: var(--fill-color);\n",
              "    }\n",
              "    20% {\n",
              "      border-color: transparent;\n",
              "      border-left-color: var(--fill-color);\n",
              "      border-top-color: var(--fill-color);\n",
              "    }\n",
              "    30% {\n",
              "      border-color: transparent;\n",
              "      border-left-color: var(--fill-color);\n",
              "      border-top-color: var(--fill-color);\n",
              "      border-right-color: var(--fill-color);\n",
              "    }\n",
              "    40% {\n",
              "      border-color: transparent;\n",
              "      border-right-color: var(--fill-color);\n",
              "      border-top-color: var(--fill-color);\n",
              "    }\n",
              "    60% {\n",
              "      border-color: transparent;\n",
              "      border-right-color: var(--fill-color);\n",
              "    }\n",
              "    80% {\n",
              "      border-color: transparent;\n",
              "      border-right-color: var(--fill-color);\n",
              "      border-bottom-color: var(--fill-color);\n",
              "    }\n",
              "    90% {\n",
              "      border-color: transparent;\n",
              "      border-bottom-color: var(--fill-color);\n",
              "    }\n",
              "  }\n",
              "</style>\n",
              "\n",
              "  <script>\n",
              "    async function quickchart(key) {\n",
              "      const quickchartButtonEl =\n",
              "        document.querySelector('#' + key + ' button');\n",
              "      quickchartButtonEl.disabled = true;  // To prevent multiple clicks.\n",
              "      quickchartButtonEl.classList.add('colab-df-spinner');\n",
              "      try {\n",
              "        const charts = await google.colab.kernel.invokeFunction(\n",
              "            'suggestCharts', [key], {});\n",
              "      } catch (error) {\n",
              "        console.error('Error during call to suggestCharts:', error);\n",
              "      }\n",
              "      quickchartButtonEl.classList.remove('colab-df-spinner');\n",
              "      quickchartButtonEl.classList.add('colab-df-quickchart-complete');\n",
              "    }\n",
              "    (() => {\n",
              "      let quickchartButtonEl =\n",
              "        document.querySelector('#df-80bfecb5-ce33-4ec9-8f22-332233037f6a button');\n",
              "      quickchartButtonEl.style.display =\n",
              "        google.colab.kernel.accessAllowed ? 'block' : 'none';\n",
              "    })();\n",
              "  </script>\n",
              "</div>\n",
              "    </div>\n",
              "  </div>\n"
            ],
            "application/vnd.google.colaboratory.intrinsic+json": {
              "type": "dataframe",
              "variable_name": "Shifts_df",
              "summary": "{\n  \"name\": \"Shifts_df\",\n  \"rows\": 90,\n  \"fields\": [\n    {\n      \"column\": 0,\n      \"properties\": {\n        \"dtype\": \"number\",\n        \"std\": 5,\n        \"min\": 0,\n        \"max\": 21,\n        \"num_unique_values\": 21,\n        \"samples\": [\n          13,\n          14,\n          3\n        ],\n        \"semantic_type\": \"\",\n        \"description\": \"\"\n      }\n    },\n    {\n      \"column\": 1,\n      \"properties\": {\n        \"dtype\": \"number\",\n        \"std\": 6,\n        \"min\": 0,\n        \"max\": 21,\n        \"num_unique_values\": 22,\n        \"samples\": [\n          14,\n          13,\n          18\n        ],\n        \"semantic_type\": \"\",\n        \"description\": \"\"\n      }\n    },\n    {\n      \"column\": 2,\n      \"properties\": {\n        \"dtype\": \"number\",\n        \"std\": 6,\n        \"min\": 0,\n        \"max\": 21,\n        \"num_unique_values\": 22,\n        \"samples\": [\n          4,\n          18,\n          10\n        ],\n        \"semantic_type\": \"\",\n        \"description\": \"\"\n      }\n    },\n    {\n      \"column\": 3,\n      \"properties\": {\n        \"dtype\": \"number\",\n        \"std\": 6,\n        \"min\": 0,\n        \"max\": 21,\n        \"num_unique_values\": 22,\n        \"samples\": [\n          0,\n          10,\n          14\n        ],\n        \"semantic_type\": \"\",\n        \"description\": \"\"\n      }\n    },\n    {\n      \"column\": 4,\n      \"properties\": {\n        \"dtype\": \"number\",\n        \"std\": 6,\n        \"min\": 0,\n        \"max\": 21,\n        \"num_unique_values\": 22,\n        \"samples\": [\n          20,\n          5,\n          19\n        ],\n        \"semantic_type\": \"\",\n        \"description\": \"\"\n      }\n    }\n  ]\n}"
            }
          },
          "metadata": {},
          "execution_count": 567
        }
      ]
    },
    {
      "cell_type": "code",
      "source": [
        "print(Shifts_no_indiv, sum(Shifts_no_indiv))\n",
        "print(Assigned_shift_no)"
      ],
      "metadata": {
        "colab": {
          "base_uri": "https://localhost:8080/"
        },
        "id": "XHQdD-Rx4Sz6",
        "outputId": "e3928ea3-07f9-4194-c1ed-91d6aff47356"
      },
      "execution_count": 551,
      "outputs": [
        {
          "output_type": "stream",
          "name": "stdout",
          "text": [
            "[21, 21, 21, 21, 21, 21, 21, 21, 21, 21, 20, 20, 19, 20, 20, 20, 20, 20, 20, 20, 20, 20] 449\n",
            "[21, 21, 21, 21, 21, 21, 21, 21, 21, 21, 20, 20, 20, 20, 20, 20, 20, 20, 20, 20, 20, 20]\n"
          ]
        }
      ]
    }
  ]
}